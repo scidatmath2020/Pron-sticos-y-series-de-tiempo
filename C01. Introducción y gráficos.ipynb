{
 "cells": [
  {
   "cell_type": "markdown",
   "metadata": {},
   "source": [
    "![imagenes](logo.png)"
   ]
  },
  {
   "cell_type": "markdown",
   "metadata": {},
   "source": [
    "# **Introducción**\n",
    "\n",
    "Una serie de tiempo es una secuencia de observaciones sobre intervalos de tiempo separados de manera regular. Por ejemplo:\n",
    "* Las tasas mensuales de desempleo durante los cinco años previos\n",
    "* La producción diaria en una planta de manufactura durante un mes\n",
    "* La población década por década de un estado en el siglo anterior\n",
    "\n",
    "Formalmente, una serie de tiempo $\\mathbb{X}=\\{X_t\\}$ es un *proceso estocástico* donde el índice \"está relacionado con el tiempo\".\n",
    "\n",
    "En general, no existen limitaciones para el lapso a medir: puede medirse en minutos, días, meses, años, etcétera. Lo único que se requiere es un punto de inicio y un punto final. Entre estos dos puntos se toman las mediciones; el tiempo transcurrido entre cada medición se considera constante y se conoce como **periodo**, en tanto su valor es llamado **frecuencia**.\n",
    "\n",
    "## Componentes de una serie de tiempo\n",
    "\n",
    "* **Tendencia.** La tendencia a largo plazo de una serie de aumentar o disminuir (tendencia creciente o tendencia decreciente).\n",
    "\n",
    "* **Estacionalidad.** La fluctuación periódica en las series de tiempo dentro de un período determinado. Estas fluctuaciones forman un patrón que tiende a repetirse de un período estacional al siguiente.\n",
    "\n",
    "## Notación\n",
    "\n",
    "Utilizaremos la notación de procesos estocásticos: cada serie de tiempo será denotada por una letra mayúscula con \"doble barra\": $\\mathbb{X}$, $\\mathbb{Y}$, $\\mathbb{Z}$, etc. \n",
    "\n",
    "Es decir, por ejemplo, $\\mathbb{X}$ es el número de delitos ocurridos en México mensualmente desde 2010 a 2019. \n",
    "\n",
    "El periodo de tiempo cubierto será denotado por $T$. En el ejemplo anterior, $T$ es enero de 2010 a diciembre de 2019. Cada periodo de tiempo se suele denotar por $t$; por ejemplo, abril de 2018.\n",
    "\n",
    "Finalmente, para cada tiempo $t$, el valor (o conjuntos de valores) que toma serie es denotado por $X_t$ (se usa la misma letra que para designar a la serie de tiempo).\n",
    "\n",
    "Así, en concreto: $\\mathbb{X}=\\{X_t\\}_{t\\in T}$ denota la serie de tiempo donde el periodo completo es $T$, cada periodo es $t$ y el valor de la serie en el tiempo $t$ es $X_t$.\\\\\n",
    "\n",
    "**Ejemplo.** Si $\\mathbb{X}$ es la serie de tiempo que registra el número de delitos ocurridos mensualmente en México desde 2010 hasta 2019, entonces $X_{4,2018}$ es el número de delitos ocurridos en abril de 2018. Este valor también se puede denotar por $X_{100}$ (pues desde enero de 2010 a abril de 2018 han pasado 100 meses, y por lo tanto se tomaron 100 mediciones)."
   ]
  }
 ],
 "metadata": {
  "kernelspec": {
   "display_name": "Python 3",
   "language": "python",
   "name": "python3"
  },
  "language_info": {
   "codemirror_mode": {
    "name": "ipython",
    "version": 3
   },
   "file_extension": ".py",
   "mimetype": "text/x-python",
   "name": "python",
   "nbconvert_exporter": "python",
   "pygments_lexer": "ipython3",
   "version": "3.7.7"
  }
 },
 "nbformat": 4,
 "nbformat_minor": 4
}
