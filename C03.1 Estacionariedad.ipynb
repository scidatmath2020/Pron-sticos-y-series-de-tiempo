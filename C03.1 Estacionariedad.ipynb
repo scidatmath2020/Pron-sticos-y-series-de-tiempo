{
 "cells": [
  {
   "cell_type": "markdown",
   "metadata": {},
   "source": [
    "![imagenes](logo.png)"
   ]
  },
  {
   "cell_type": "markdown",
   "metadata": {},
   "source": [
    "# Estacionariedad\n",
    "\n",
    "Dada una serie de tiempo $\\mathbb{X}$, se define su *función de autocorrelación de retraso $k$* como $\\varphi_k(t)=corr(X_{t},X_{t-k})$. \n",
    "\n",
    "## Ruído blanco\n",
    "\n",
    "El *ruído blanco* es una serie de tiempo $\\{\\xi_t\\}_{t\\in T}$ que cumple las siguientes condiciones:\n",
    "\n",
    "1. Media constante: $E[\\xi_t]=cte$ para toda $t$.\n",
    "\n",
    "\n",
    "2. Varianza constante: $Var(\\xi_t)=cte$ para toda $t$.\n",
    "\n",
    "\n",
    "3. **Autocorrelación de un retraso nula:** $corr(\\xi_t,\\xi_{t-1})=0$ para toda $t$.\n",
    "\n",
    "\n",
    "Típicamente, la gráfica de un ruído blanco se ve así: \n",
    "![imagenes](White_noise.png)\n",
    "\n"
   ]
  },
  {
   "cell_type": "markdown",
   "metadata": {},
   "source": [
    "**Nota:** en Teoría de Funciones Generalizadas, el Ruído blanco es la *derivada distribucional del proceso de Wiener* (si $f$ es una función con soporte compacto, su derivada distribucional se define como el único funcional continuo $f^\\prime$ dado por $$f^\\prime(\\phi)=-\\int_{\\mathbb{R}}\\phi^\\prime f$$ para toda $\\phi$ infinitamente derivable con soporte compacto)."
   ]
  },
  {
   "cell_type": "markdown",
   "metadata": {},
   "source": [
    "## Caminata aleatoria \n",
    "\n",
    "![imagenes](random_walk.jpg)"
   ]
  },
  {
   "cell_type": "markdown",
   "metadata": {},
   "source": [
    "Una **caminata aleatoria** es una serie de tiempo donde las diferencias entre periodos son ruído blanco. Intuitivamente, esto nos dice que el valor $X_t$ únicamente depende del valor $X_{t-1}$ junto con un ruído blanco $\\xi_t$, lo que significa que no somos capaces de predecir el valor a futuro. Esto implica que la mejor predicción para el siguiente paso es el valor actual, pero para periodos de tiempo largos, no habrán buenas precisiones.\n",
    "\n",
    "![imagenes](Random_Walk_example.png)"
   ]
  },
  {
   "cell_type": "markdown",
   "metadata": {},
   "source": [
    "## Series estacionarias\n",
    "\n",
    "Una serie es estacionaria si es *estable a lo largo del tiempo*. Esto equivale a que la media, la varianza y la autocorrelación \"de cualquier tamaño de paso\" se mantienen constantes, lo que siginifica que los posibles valores en cada tiempo siempre tienen el mismo valor promedio, el mismo promedio de desviación y la misma relación con el tiempo inmediato anterior, por lo cual no se presentan tendencias."
   ]
  },
  {
   "cell_type": "markdown",
   "metadata": {},
   "source": [
    "![imagenes](estacionarias.png)"
   ]
  },
  {
   "cell_type": "markdown",
   "metadata": {},
   "source": [
    "Formalmente:\n",
    "\n",
    "1. $E[X_t]=cte$\n",
    "\n",
    "\n",
    "2. $Var(X_t)=cte$\n",
    "\n",
    "\n",
    "3. Para todas $t$ y $s$, se tiene $Cov(X_{t+k},X_t)=Cov(X_{s+k},X_s)$ toda $k$."
   ]
  },
  {
   "cell_type": "markdown",
   "metadata": {},
   "source": [
    "## Prueba de Dickey-Fuller (DF)\n",
    "\n",
    "Es una prueba estadística para verificar si un conjunto de datos proviene de una serie estacionaria o no. Se trata de un contraste de hipótesis: \n",
    "\n",
    "$$\\left\\{\\begin{array}{cl}H_0:&\\mbox{la serie no es estacionaria}\\\\H_1:&\\mbox{la serie es estacionaria}\\end{array}\\right.$$\n",
    "\n",
    "### Algo para recordar: Pruebas de hipótesis\n",
    "\n",
    "Se dispone de una muestra tomada de una población. Queremos extender las características de esa muestra a toda nuestra problación (es el problema central de la Inferencia Estadística).  Uno de los métodos usados son las pruebas o contraste de hipótesis. Estas están formadas por dos hipótesis:\n",
    "\n",
    "$$\\left\\{\\begin{array}{cl}H_0:&\\mbox{hipótesis nula}\\\\H_1:&\\mbox{hipótesis alternativa}\\end{array}\\right.$$\n",
    "\n",
    "y queremos decidir si aceptamos o rechazamos la hipótesis nula en favor de la alternativa.\n",
    "\n",
    "Supongamos que somos los jueces en un juicio con un sospechoso de un crimen. Nuestra hipótesis nula es que el sospechoso es inocente (toda persona es inocente hasta que se demuestre lo contrario). El trabajo del fiscal consiste en dar pruebas suficientes para que rechacemos la inocencia del sospechoso y, por lo tanto, aceptemos la hipótesis alternativa.\n",
    "\n",
    "En este caso: \n",
    "\n",
    "- Juicio: es el contraste de hipótesis.\n",
    "\n",
    "- Evidencia: son los datos con los que contamos.\n",
    "\n",
    "- ¿Cómo tomamos la decisión? típicamente, se establece un criterio que debe cumplir un cierto estadístico para poder decir que tenemos evidencia suficiente para rechazar la hipótesis nula. A este estadístico se le llama estadístico de contraste."
   ]
  },
  {
   "cell_type": "markdown",
   "metadata": {},
   "source": [
    "Las prueba DF toma como estadístico de contraste a $\\varphi_1$ (la autocorrelación de un retraso) y tiene la forma:  \n",
    "$$\\left\\{\\begin{array}{cl}H_0:&\\varphi_1=1\\\\H_1:&\\varphi_1<1\\end{array}\\right.$$\n",
    "\n",
    "Si $\\varphi_0<c$ donde $c$ es cierto valor que **nosotros definimos de manera arbitraria**, entonces rechazamos $H_0$ y por lo tanto la serie es estacionaria.\n",
    "\n",
    "O bien, con $p$-valores: si el $p$-valor es pequeño (menor que un nivel de significación $\\alpha$), significa que la probabilidad de que $H_0$ sea cierta dados los datos es pequeña así que es poco probable que la serie no sea estacionaria, y por lo tanto aceptamos que es estacionaria.\n"
   ]
  }
 ],
 "metadata": {
  "kernelspec": {
   "display_name": "Python 3",
   "language": "python",
   "name": "python3"
  },
  "language_info": {
   "codemirror_mode": {
    "name": "ipython",
    "version": 3
   },
   "file_extension": ".py",
   "mimetype": "text/x-python",
   "name": "python",
   "nbconvert_exporter": "python",
   "pygments_lexer": "ipython3",
   "version": "3.7.7"
  }
 },
 "nbformat": 4,
 "nbformat_minor": 4
}
