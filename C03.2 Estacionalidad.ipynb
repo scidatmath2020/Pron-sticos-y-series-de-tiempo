{
 "cells": [
  {
   "cell_type": "markdown",
   "metadata": {},
   "source": [
    "![imagenes](logo.png)"
   ]
  },
  {
   "cell_type": "markdown",
   "metadata": {},
   "source": [
    "# Estacionalidad\n",
    "\n",
    "La estacionalidad sugiere que ciertas tendencias aparecerán de forma cíclica. Por ejemplo, las temperaturas suben y bajan según las horas del día y los meses del año. Estos son dos ejemplos distintos de patrones estacionales que observamos en nuestra vida, el cambio durante el día y el cambio durante un año completo.\n",
    "\n",
    "Hay varias formas de comprobar si existe estacionalidad. Un enfoque es descomponer la secuencia de la serie temporal en tres efectos.\n",
    "1. **Tendencia.** Representa el patrón consistente en todos los datos\n",
    "2. **Estacional.** Expresa todos los efectos cíclicos debido a la estacionalidad.\n",
    "3. **Residual.** Son el error de predicción, o la diferencia entre los datos reales y el modelo que ajustamos.\n",
    "\n",
    "El tipo más simple de descomposición es la descomposición clásica. Con ella esperamos una relación lineal entre las tres partes y la serie de tiempo observada. Hay dos enfoques principales en la descomposición clásica:\n",
    "\n",
    "1. **Aditivo:** la realidad es el resultado de sumar la tendencia con la estacionalidad y con los residuos.\n",
    "2. **Multiplicativo:** la realidad es el resultado de multiplicar la tendencia con la estacionalidad y con los residuos."
   ]
  }
 ],
 "metadata": {
  "kernelspec": {
   "display_name": "Python 3",
   "language": "python",
   "name": "python3"
  },
  "language_info": {
   "codemirror_mode": {
    "name": "ipython",
    "version": 3
   },
   "file_extension": ".py",
   "mimetype": "text/x-python",
   "name": "python",
   "nbconvert_exporter": "python",
   "pygments_lexer": "ipython3",
   "version": "3.7.7"
  }
 },
 "nbformat": 4,
 "nbformat_minor": 4
}
