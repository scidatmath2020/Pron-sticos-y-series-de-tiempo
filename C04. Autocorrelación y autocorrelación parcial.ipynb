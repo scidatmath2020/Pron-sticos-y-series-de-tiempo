{
 "cells": [
  {
   "cell_type": "markdown",
   "metadata": {},
   "source": [
    "![imagenes](logo.png)"
   ]
  },
  {
   "cell_type": "markdown",
   "metadata": {},
   "source": [
    "# Autocorrelación\n",
    "\n",
    "La autocorrelación representa la correlación entre una secuencia y consigo misma. Más precisamente, mide el nivel de semejanza entre una secuencia de hace varios períodos y los datos actuales.\n",
    "\n",
    "La secuencia de hace varios períodos atrás se llama “retraso” o “lag” en inglés, porque es una versión retrasada de la original. Por ejemplo, si calculamos la autocorrelación para una serie de tiempo con frecuencia diaria, estamos determinando cuántos de los valores de ayer se parecen a los valores de hoy. Si la frecuencia es, en cambio, anual, entonces la autocorrelación medirá las similitudes de año en año.\n",
    "\n",
    "## Función de autocorrelación\n",
    "\n",
    "La función de autocorrelación proporciona la autocorrelación para cualquier retraso que consideremos. La alternativa sería encontrar manualmente la correlación entre nuestros datos originales y múltiples retrasos de sí misma.\n",
    "\n",
    "En Python usaremos la función ``plot_acf`` y en R la función ``acf``.\n",
    "\n",
    "# Autocorrelación parcial\n",
    "\n",
    "La autocorrelación mide la similitud entre una serie temporal y una versiones anteriores de sí misma. Sin embargo, los coeficientes también capturan efectos de los momentos anteriores de manera indirecta. Por indirecta nos referimos a todos los demás canales a través de los cuales los datos del pasado afectan a los datos actuales. Si deseamos determinar solo la relación directa entre la serie de tiempo y su versión retrasada, necesitamos calcular la autocorrelación parcial\n",
    "\n",
    "\n"
   ]
  }
 ],
 "metadata": {
  "kernelspec": {
   "display_name": "Python 3",
   "language": "python",
   "name": "python3"
  },
  "language_info": {
   "codemirror_mode": {
    "name": "ipython",
    "version": 3
   },
   "file_extension": ".py",
   "mimetype": "text/x-python",
   "name": "python",
   "nbconvert_exporter": "python",
   "pygments_lexer": "ipython3",
   "version": "3.7.7"
  }
 },
 "nbformat": 4,
 "nbformat_minor": 4
}
