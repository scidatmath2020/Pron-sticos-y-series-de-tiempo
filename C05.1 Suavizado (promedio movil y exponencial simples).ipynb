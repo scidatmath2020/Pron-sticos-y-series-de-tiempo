{
 "cells": [
  {
   "cell_type": "markdown",
   "metadata": {},
   "source": [
    "![imagenes](logo.png)"
   ]
  },
  {
   "cell_type": "markdown",
   "metadata": {
    "colab_type": "text",
    "id": "AArxeqHqXKxC"
   },
   "source": [
    "# Técnicas de suavizado\n",
    "\n",
    "Una media móvil nos muestra el valor medio de una medida en un número de sesiones determinado. Una media móvil de 5 días mostrará el promedio de los datos de los últimos 5 días, una media móvil de 20 días muestra la media de los últimos 20 días, y así sucesivamente. Cuando conecta las medias de cada día, crea una línea de media móvil. El valor de la media móvl depende de dos factores, los valores que se están promediando y el horizonte temporal.\n",
    "\n",
    "La característica móvil implica que la media se mueve siguiendo los datos; es decir, recoge el dato que se genera en la última sesión, y a su vez, descarta el dato más antiguo de la serie temporal. Dentro de todos los indicadores existentes en el mundo del análisis técnico, podría decirse que las medias móviles bien empleadas son un excelente indicador de tendencias.\n",
    "\n",
    "La media móvil es un indicador de tendencia que nunca se anticipa al movimiento o tendencia de los datos; es decir, simplemente sigue a la curva de datos confirmando la tendencia que hay en vigor en cada momento. No nos adelanta cambios de tendencia, pero si los puede confirmar."
   ]
  },
  {
   "cell_type": "markdown",
   "metadata": {
    "colab_type": "text",
    "id": "SHTw4RCFrRFt"
   },
   "source": [
    "___\n",
    "# SMA\n",
    "## Simple Moving Average : Promedio móvil simple"
   ]
  },
  {
   "cell_type": "markdown",
   "metadata": {
    "colab_type": "text",
    "id": "tS9A8QxsUafU"
   },
   "source": [
    "$SMA=\\frac{x_1+x_2+...+x_n}{n} $"
   ]
  },
  {
   "cell_type": "markdown",
   "metadata": {
    "colab_type": "text",
    "id": "XGaqjDCIUrme"
   },
   "source": [
    "donde $x_i$ son los valores de la variable, por tanto $SMA$ es un promedio aritmético de $n$ períodos atrás."
   ]
  },
  {
   "cell_type": "markdown",
   "metadata": {
    "colab_type": "text",
    "id": "_P1giLQerRGP"
   },
   "source": [
    "___\n",
    "# EWMA\n",
    "## Exponentially Weighted Moving Average: Promedio móvil ponderado exponencialmente\n",
    "\n"
   ]
  },
  {
   "cell_type": "markdown",
   "metadata": {
    "colab_type": "text",
    "id": "Ax-Mc0sNrRGR"
   },
   "source": [
    "EWMA nos permitirá reducir el efecto de retraso de SMA y pondrá más peso en los valores que ocurrieron más recientemente. La cantidad de peso aplicada a los valores más recientes dependerá de los parámetros utilizados en EWMA, la fórmula con la que se calculan las estimaciones es:\n",
    "\n",
    "### $y_t =   \\frac{\\sum\\limits_{i=0}^t w_i x_{t-i}}{\\sum\\limits_{i=0}^t w_i}$"
   ]
  },
  {
   "cell_type": "markdown",
   "metadata": {
    "colab_type": "text",
    "id": "v9Pvig8GrRGT"
   },
   "source": [
    "Donde $x_t$ son los valores de la variable, $w_i$ son los pesos (desde $i=0$ hasta $t$), y la $y_t$ es la estimación resultante.\n",
    "\n",
    "La pregunta es ¿cómo se deben definir los pesos $w_i$?\n",
    "\n",
    "Esto depende del argumento <tt>adjust</tt> dentro de la función <tt>.ewm()</tt>.\n",
    "\n",
    "Cuando <tt>adjust=True</tt> (por defecto), los pesos se calculan con esta ecuación: $w_i = (1 - \\alpha)^i$\n",
    "\n",
    "Lo cual resulta en estas estimaciones:\n",
    "\n",
    "### $y_t = \\frac{x_t + (1 - \\alpha)x_{t-1} + (1 - \\alpha)^2 x_{t-2} + ...\n",
    "+ (1 - \\alpha)^t x_{0}}{1 + (1 - \\alpha) + (1 - \\alpha)^2 + ...\n",
    "+ (1 - \\alpha)^t}$"
   ]
  },
  {
   "cell_type": "markdown",
   "metadata": {
    "colab_type": "text",
    "id": "eThL02eUrRGV"
   },
   "source": [
    "Cuando <tt>adjust=False</tt> las estimaciones se calculan como:\n",
    "\n",
    "### $\\begin{split}y_0 &= x_0 \\\\\n",
    "y_t &= (1 - \\alpha) y_{t-1} + \\alpha x_t,\\end{split}$\n",
    "\n",
    "que es equivalente a usar estos pesos:\n",
    "\n",
    " \\begin{split}w_i = \\begin{cases}\n",
    "    \\alpha (1 - \\alpha)^i & \\text{si } i < t \\\\\n",
    "    (1 - \\alpha)^i        & \\text{si } i = t.\n",
    "\\end{cases}\\end{split}"
   ]
  },
  {
   "cell_type": "markdown",
   "metadata": {
    "colab_type": "text",
    "id": "fh7dMhTurRGX"
   },
   "source": [
    "El parámetro de suavizado $\\alpha$ tiene que ser un valor $0<\\alpha≤1$.\n",
    "Es posible pasar directamente el valor del parámetro, pero una mejor práctica es pensar en él como una función de estos tres posibles factores:\n",
    "1. Span (duración)\n",
    "2. Center of mass (centro de masa)\n",
    "3. Half-life (vida media)"
   ]
  },
  {
   "cell_type": "markdown",
   "metadata": {
    "colab_type": "text",
    "id": "2IstLIl_rRGa"
   },
   "source": [
    "\\begin{split}\\alpha =\n",
    " \\begin{cases}\n",
    "     \\frac{2}{s + 1},               & \\text{para una duracion (span)}\\ s \\geq 1\\\\\n",
    "     \\frac{1}{1 + c},               & \\text{para un centro de masa}\\ c \\geq 0\\\\\n",
    "     1 - \\exp^{\\frac{\\log 0.5}{h}}, & \\text{para un parametro half-life}\\ h > 0\n",
    " \\end{cases}\\end{split}"
   ]
  },
  {
   "cell_type": "markdown",
   "metadata": {
    "colab_type": "text",
    "id": "bTrM9CLRrRGd"
   },
   "source": [
    "* <strong>Span</strong> corresponde a lo que comúnmente se llama un \"promedio móvil de N-períodos\"\n",
    "* <strong>Center of mass</strong> tiene una interpretación más física y se puede pensar en términos de la duración: $c=(s−1)/2$\n",
    "* <strong>Half-life</strong> es el período de tiempo para que el peso exponencial se reduzca a la mitad.\n",
    "* <strong>Alpha</strong> es el parámetro de suavizado directamente.\n",
    "\n"
   ]
  },
  {
   "cell_type": "markdown",
   "metadata": {
    "colab_type": "text",
    "collapsed": true,
    "id": "7SZoGze8rRHA"
   },
   "source": [
    "El ejemplo anterior hemos empleado una especie de <em> Suavizado exponencial simple </em> con un factor de suavizado <strong> α </strong>. Desafortunadamente, esta técnica hace un mal trabajo de pronóstico cuando hay una tendencia en los datos."
   ]
  }
 ],
 "metadata": {
  "anaconda-cloud": {},
  "colab": {
   "name": "SMA_y_Suavizado_Exponencial.ipynb",
   "provenance": []
  },
  "kernelspec": {
   "display_name": "Python 3",
   "language": "python",
   "name": "python3"
  },
  "language_info": {
   "codemirror_mode": {
    "name": "ipython",
    "version": 3
   },
   "file_extension": ".py",
   "mimetype": "text/x-python",
   "name": "python",
   "nbconvert_exporter": "python",
   "pygments_lexer": "ipython3",
   "version": "3.7.7"
  }
 },
 "nbformat": 4,
 "nbformat_minor": 1
}
