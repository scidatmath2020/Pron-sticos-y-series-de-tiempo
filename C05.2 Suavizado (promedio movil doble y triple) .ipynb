{
 "cells": [
  {
   "cell_type": "markdown",
   "metadata": {},
   "source": [
    "![imagenes](logo.png)"
   ]
  },
  {
   "cell_type": "markdown",
   "metadata": {
    "colab_type": "text",
    "id": "x3JV2yErrdVT"
   },
   "source": [
    "# Holt-Winters Methods\n",
    "En la clase anterior vimos los <strong> Promedios móviles ponderados exponencialmente </strong> (EWMA) que es un <em> Suavizado exponencial simple </em> usando un solo factor de suavizado $\\alpha$ (alpha). Pero no tuvo en cuenta otros factores que contribuyen, como la tendencia y la estacionalidad.\n",
    "\n",
    "En esta clase veremos el <em> Suavizado exponencial doble y triple </em> con los Métodos Holt-Winters. \n",
    "\n",
    "En el <strong> Suavizado exponencial doble </strong> (también conocido como Método de Holt) presentamos un nuevo factor de suavizado $\\beta$ (beta) que aborda la tendencia:\n",
    "\n",
    "\\begin{split}l_t &= (1 - \\alpha) l_{t-1} + \\alpha x_t, & \\text{    nivel}\\\\\n",
    "b_t &= (1-\\beta)b_{t-1} + \\beta(l_t-l_{t-1}) & \\text{    tendencia}\\\\\n",
    "y_t &= l_t + b_t & \\text{    modelo estimado}\\\\\n",
    "\\hat y_{t+h} &= l_t + hb_t & \\text{    modelo de pronósticos (} h = \\text{# periodos en el futuro)}\\end{split}\n",
    "\n",
    "\n",
    "Con <strong> Suavizado exponencial triple </strong> (también conocido como Método Holt-Winters) presentamos un factor de suavizado $\\gamma$ (gamma) que aborda la estacionalidad:\n",
    "\n",
    "\\begin{split}l_t &= (1 - \\alpha) l_{t-1} + \\alpha x_t, & \\text{    nivel}\\\\\n",
    "b_t &= (1-\\beta)b_{t-1} + \\beta(l_t-l_{t-1}) & \\text{    tendencia}\\\\\n",
    "c_t &= (1-\\gamma)c_{t-L} + \\gamma(x_t-l_{t-1}-b_{t-1}) & \\text{    estacionalidad}\\\\\n",
    "y_t &= (l_t + b_t) c_t & \\text{    modelo estimado}\\\\\n",
    "\\hat y_{t+m} &= (l_t + mb_t)c_{t-L+1+(m-1)modL} & \\text{    modelo de pronosticos (} m = \\text{# periodos en el futuro)}\\end{split}\n",
    "\n",
    "Aquí $ L $ representa el número de divisiones por ciclo. En nuestro caso, mirando los datos mensuales que muestran un patrón repetitivo cada año, usaríamos $ L = 12 $.\n",
    "\n",
    "En general, los valores más altos para $ \\alpha $, $ \\beta $ y $ \\gamma $ (valores más cercanos a 1), ponen más énfasis en los datos recientes.    "
   ]
  },
  {
   "cell_type": "markdown",
   "metadata": {
    "colab_type": "text",
    "id": "991x06ubrdWX"
   },
   "source": [
    "___\n",
    "## Suavizado exponencial simple\n",
    "\n",
    "La función del suavizado exponencial simple de statsmodels realiza las mismas estimaciones que el método de promedios ponderados de pandas:\n",
    "\n",
    "``from statsmodels.tsa.holtwinters import SimpleExpSmoothing``\n"
   ]
  },
  {
   "cell_type": "markdown",
   "metadata": {
    "colab_type": "text",
    "id": "3XI9hsVOrdWd"
   },
   "source": [
    "---\n",
    "## Suavizado exponencial doble\n",
    "Cuando el suavizado exponencial simple emplea solo un factor de suavizado $ \\alpha $ (alpha), el suavizado exponencial doble agrega un segundo factor de suavizado $ \\beta $ (beta) que aborda las tendencias en los datos. Al igual que el factor alpha, los valores para el factor beta están entre cero y uno ($ 0 <\\beta≤1 $). El beneficio aquí es que el modelo puede anticipar futuros aumentos o disminuciones donde el modelo de un solo factor solo tendría en cuenta los valores más recientes.\n",
    "\n",
    "También podemos abordar diferentes tipos de cambio (crecimiento / decadencia) en la tendencia. Si una serie temporal muestra una tendencia inclinada en línea recta, se usaría un ajuste <strong> aditivo </strong>. Si la serie temporal muestra una tendencia exponencial (curva), se usaría un ajuste <strong> multiplicativo </strong>."
   ]
  },
  {
   "cell_type": "markdown",
   "metadata": {
    "colab_type": "text",
    "id": "Ehmn6ZTVrdWs"
   },
   "source": [
    "___\n",
    "## Suavizado exponencial triple\n",
    "Suavizado exponencial triple o Holt-Winters, añade soporte para la tendencia y la estacionalidad. \n",
    "\n"
   ]
  }
 ],
 "metadata": {
  "anaconda-cloud": {},
  "colab": {
   "name": "Holt_Winters.ipynb",
   "provenance": []
  },
  "kernelspec": {
   "display_name": "Python 3",
   "language": "python",
   "name": "python3"
  },
  "language_info": {
   "codemirror_mode": {
    "name": "ipython",
    "version": 3
   },
   "file_extension": ".py",
   "mimetype": "text/x-python",
   "name": "python",
   "nbconvert_exporter": "python",
   "pygments_lexer": "ipython3",
   "version": "3.7.7"
  }
 },
 "nbformat": 4,
 "nbformat_minor": 1
}
