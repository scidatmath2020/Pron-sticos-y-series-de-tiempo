{
 "cells": [
  {
   "cell_type": "markdown",
   "metadata": {},
   "source": [
    "![imagenes](logo.png)"
   ]
  },
  {
   "cell_type": "markdown",
   "metadata": {},
   "source": [
    "# Modelo Autorregresivo\n",
    "\n",
    "Los modelos autorregresivos predicen el valor actual de nuestra serie temporal en función de los valores pasados. Un modelo autorregresivo de orden simple, de orden uno, sólo consideraría el valor del período anterior, y el modelo se expresaría de la siguiente manera: $$x_t=c+\\Phi x_{t-1}+\\varepsilon_t$$\n",
    "\n",
    "Donde $x_t$ es el valor de interés, del período actual, de nuestra serie de tiempo, $c$ es una constante, $\\Phi$ es el coeficiente que debemos estimar, $\\varepsilon_t$ es el residuo en el período actual, y $x_{t-1}$ es el valor de la serie en el período anterior.\n",
    "\n",
    "\n",
    "**Observación:** No funcionan bien si los datos no son estacionarios.\n",
    "\n",
    "\n",
    "Sabemos que la ACF captura los efectos directos e indirectos del valor anterior sobre el valor presente. Como queremos un modelo eficiente solo queremos considerar aquellos retrasos que tengan un efecto directo y significativo sobre el período presente. Por lo tanto, debemos examinar la PACF antes de construir un modelo con demasiados coeficientes de retraso.\n",
    "\n",
    "Dada la situación anterior, el modelo se puede hacer más complejo si así se requiere, aumentando el número de retrasos:\n",
    "$$\\begin{array}{cl}\n",
    "AR(1)&x_t=c+\\Phi_1 x_{t-1}+\\varepsilon_t\\\\\n",
    "AR(2)&x_t=c+\\Phi_1 x_{t-1}+\\Phi_2 x_{t-2}+\\varepsilon_t\\\\\n",
    "AR(3)&x_t=c+\\Phi_1 x_{t-1}+\\Phi_2 x_{t-2}+\\Phi_3 x_{t-3}+\\varepsilon_t\\\\\n",
    "\\vdots&\\vdots\n",
    "\\end{array}$$"
   ]
  }
 ],
 "metadata": {
  "kernelspec": {
   "display_name": "Python 3",
   "language": "python",
   "name": "python3"
  },
  "language_info": {
   "codemirror_mode": {
    "name": "ipython",
    "version": 3
   },
   "file_extension": ".py",
   "mimetype": "text/x-python",
   "name": "python",
   "nbconvert_exporter": "python",
   "pygments_lexer": "ipython3",
   "version": "3.7.7"
  }
 },
 "nbformat": 4,
 "nbformat_minor": 4
}
