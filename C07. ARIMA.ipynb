{
 "cells": [
  {
   "cell_type": "markdown",
   "metadata": {},
   "source": [
    "![imagenes](logo.png)"
   ]
  },
  {
   "cell_type": "markdown",
   "metadata": {},
   "source": [
    "Ya hemos visto que un modelo Autorregresivo de orden p, AR(p), es aquel de la forma $$x_t=\\Phi_1x_{t-1}+\\Phi_2x_{t-2}+...+\\Phi_px_{t-p}+\\varepsilon_t$$\n",
    "\n",
    "# Modelo de medias móviles MA(q)\n",
    "\n",
    "Los modelos de medias móviles predicen el valor actual de nuestra serie temporal en función de los residuos pasados. Un modelo de medias móviles de orden simple, de orden uno, sólo consideraría el valor del residuo en el período anterior, y el modelo se expresaría de la siguiente manera:\n",
    "\n",
    "$$x_t=\\theta_1\\varepsilon_{t-1}+\\theta_2\\varepsilon_{t-2}+...+\\theta_q\\varepsilon_{t-q}+\\varepsilon_t$$\n",
    "\n",
    "Donde $x_t$ es el valor de interés, del período actual, de nuestra serie de tiempo, $\\theta_k$ son coeficientes que debemos estimar, $\\epsilon_k$ son los residuos.\n",
    "\n",
    "No funcionan bien si los datos no son estacionarios."
   ]
  },
  {
   "cell_type": "markdown",
   "metadata": {},
   "source": [
    "# ARIMA\n",
    "\n",
    "El método ARIMA (autorregresivo de medias móviles integrado) es una clase de modelo que explican una serie de tiempo dada basado en su pasado (tanto en valores como en errores cometidos), de modo que su ecuación puede ser usada para predecir el futuro.\n",
    "\n",
    "Estos modelos se caracterizan con tres parámetros: p,d y q donde:\n",
    "\n",
    "* p es el orden de la parte autorregresiva (AR(p))\n",
    "* d es el número de diferenciaciones requeridas para tener una serie estacionaria (I)\n",
    "* q es el orden de la parte de medias móviles (MA(q))\n",
    "\n",
    "\n",
    "\n"
   ]
  },
  {
   "cell_type": "markdown",
   "metadata": {},
   "source": [
    "## ¿Cómo conseguimos una serie estacionaria?\n",
    "\n",
    "La manera más usual es \"diferenciandola\". Esto significa restar el valor previo del valor actual. A veces, dependiendo de la complejidad de la serie, se requiere una o mas diferenciaciones. \n",
    "\n",
    "El valor d es, por lo tanto, el mínimo número de diferenciaciones que se requieren para obtener una serie estacionaria. Si la serie original ya era estacionaria, entonces d=0.\n",
    "\n"
   ]
  },
  {
   "cell_type": "markdown",
   "metadata": {},
   "source": [
    "Un modelo ARIMA es aquel donde la serie original ha sido diferenciada al menos una vez para volverla estacionaria, y luego se le combinan las partes autorregresivas y de medias móviles, de modo que se satisface:\n",
    "\n",
    "$$x_t=\\underbrace{\\Phi_1 x_{t-1}+\\Phi_2 x_{t-2}+...+\\Phi_p x_{t-p}}_{AR(p)}+\\underbrace{\\theta_1\\varepsilon_{t-1}+\\theta_2\\varepsilon_{t-2}+...+\\theta_q\\varepsilon_{t-q}}_{MA(q)}+c$$"
   ]
  },
  {
   "cell_type": "markdown",
   "metadata": {},
   "source": [
    "### Cómo encontrar d\n",
    "\n",
    "El orden correcto de diferenciación es la diferenciación mínima requerida para obtener una serie casi estacionaria que oscila alrededor de una media bien definida y la gráfica de la función de correlación llega a cero con bastante rapidez.\n",
    "\n",
    "Si las autocorrelaciones son positivas para muchos retrasos (10 o más), entonces la serie necesita una mayor diferenciación. Por otro lado, si la autocorrelación del retardo 1 en sí es demasiado negativa, entonces la serie probablemente esté sobrediferenciada.\n",
    "\n",
    "Si es el caso en que no puede realmente decidir entre dos órdenes de diferenciación, elija el orden que dé la menor desviación estándar en la serie diferenciada.\n",
    "\n"
   ]
  }
 ],
 "metadata": {
  "kernelspec": {
   "display_name": "Python 3",
   "language": "python",
   "name": "python3"
  },
  "language_info": {
   "codemirror_mode": {
    "name": "ipython",
    "version": 3
   },
   "file_extension": ".py",
   "mimetype": "text/x-python",
   "name": "python",
   "nbconvert_exporter": "python",
   "pygments_lexer": "ipython3",
   "version": "3.7.7"
  }
 },
 "nbformat": 4,
 "nbformat_minor": 4
}
