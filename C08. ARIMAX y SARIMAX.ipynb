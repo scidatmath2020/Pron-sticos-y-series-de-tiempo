{
 "cells": [
  {
   "cell_type": "markdown",
   "metadata": {},
   "source": [
    "![imagenes](logo.png)"
   ]
  },
  {
   "cell_type": "markdown",
   "metadata": {},
   "source": [
    "# Modelos MAX\n",
    "\n",
    "Los modelos MAX son modelos que consideran información exógena para explicar la variable endógena (la serie que estemos estudiando).\n",
    "\n",
    "La variable exógena puede ser una serie o varias series (varias variables).\n",
    "Por lo general mejoran mucho al modelo, pero tienen la desventaja de que para predecir datos de futuro, como en el futuro no conocemos los valores de esas variables exógenas, no podríamos usar esto, a no ser que estimemos de alguna forma los valores de esas variables extra. Esto tiene que ver con otros modelos que se llaman VAR.\n",
    "\n",
    "## ARIMAX\n",
    "\n",
    "El modelo ARIMAX es una generalizacion del modelo ARIMA en el que incluye una o más covariables exógenas al modelo con una respuesta estacionaria. La forma general de los modelos ARIMAX(p,d,q) con variables exógenas $z_1,...,z_r$ es el siguiente:\n",
    "\n",
    "\\begin{multline*}x_t^\\prime=c+\\beta_1z_1^\\prime+\\beta_2z_2^\\prime+...+\\beta_rz_r^\\prime+\\\\\\underbrace{\\Phi_1 x_{t-1}^\\prime+\\Phi_2 x_{t-2}^\\prime+...+\\Phi_p x_{t-p}^\\prime}_{AR(p)}+\\underbrace{\\theta_1\\varepsilon_{t-1}+\\theta_2\\varepsilon_{t-2}+...+\\theta_q\\varepsilon_{t-q}}_{MA(q)}\\end{multline*}\n",
    "\n"
   ]
  }
 ],
 "metadata": {
  "kernelspec": {
   "display_name": "Python 3",
   "language": "python",
   "name": "python3"
  },
  "language_info": {
   "codemirror_mode": {
    "name": "ipython",
    "version": 3
   },
   "file_extension": ".py",
   "mimetype": "text/x-python",
   "name": "python",
   "nbconvert_exporter": "python",
   "pygments_lexer": "ipython3",
   "version": "3.7.7"
  }
 },
 "nbformat": 4,
 "nbformat_minor": 4
}
