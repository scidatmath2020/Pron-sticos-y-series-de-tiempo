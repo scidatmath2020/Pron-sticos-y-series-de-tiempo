{
 "cells": [
  {
   "cell_type": "markdown",
   "metadata": {},
   "source": [
    "<img src=\"logo.png\">"
   ]
  },
  {
   "cell_type": "markdown",
   "metadata": {},
   "source": [
    "# Redes neuronales autorrecurrentes\n",
    "\n",
    "Recordemos que nuestro objetivo con las redes neuronales es replicar las funciones de un cerebro\n",
    "\n",
    "<img src=\"rna01.png\">"
   ]
  },
  {
   "cell_type": "markdown",
   "metadata": {},
   "source": [
    "Recordemos que las redes neuronales artificiales pueden verse de la siguiente manera: \n",
    "\n",
    "<img src=\"rna02.png\">"
   ]
  },
  {
   "attachments": {},
   "cell_type": "markdown",
   "metadata": {},
   "source": [
    "Aplastemos la red de la siguiente manera:  \n",
    "\n",
    "<img src=\"rna03.png\">"
   ]
  },
  {
   "cell_type": "markdown",
   "metadata": {},
   "source": [
    "Un diseño mas complejo sería el siguiente (pero recuerda que \"está aplastado\")\n",
    "\n",
    "<img src=\"rna04.png\">\n",
    "\n",
    "<img src=\"rna05.png\">"
   ]
  },
  {
   "cell_type": "markdown",
   "metadata": {},
   "source": [
    "Este diseño es lo que se conoce como **red neuronal autorrecurrente**"
   ]
  },
  {
   "cell_type": "markdown",
   "metadata": {},
   "source": [
    "Algunos ejemplos son:\n",
    "\n",
    "<img src=\"rna06.png\">\n",
    "\n",
    "<img src=\"rna07.png\">"
   ]
  },
  {
   "cell_type": "markdown",
   "metadata": {},
   "source": [
    "Recordemos cómo se hace la retropropagación de la información en una red neuronal usual:\n",
    "<img src=\"rna08.png\">"
   ]
  },
  {
   "cell_type": "markdown",
   "metadata": {},
   "source": [
    "En redes autorrecurrentes la retropropagación es más complicada:\n",
    "<img src=\"rna09.png\">"
   ]
  },
  {
   "cell_type": "markdown",
   "metadata": {},
   "source": [
    "Enfoquémonos en una sola salida para entender lo que pasa:\n",
    "<img src=\"rna10.png\">\n",
    "\n",
    "<img src=\"rna11.png\">\n",
    "\n"
   ]
  },
  {
   "cell_type": "markdown",
   "metadata": {},
   "source": [
    "## LSTM (Redes largas de memoria a corto plazo)\n",
    "\n",
    "Un tipo especial de red recurrente son las llamadas **lstm**, que se modelan de la siguiente manera:\n",
    "\n",
    "<img src=\"rna12.png\">"
   ]
  },
  {
   "cell_type": "markdown",
   "metadata": {},
   "source": [
    "Vamos a centrarnos en una sola neurona:\n",
    "\n",
    "<img src=\"rna13.png\">"
   ]
  }
 ],
 "metadata": {
  "kernelspec": {
   "display_name": "Python 3",
   "language": "python",
   "name": "python3"
  },
  "language_info": {
   "codemirror_mode": {
    "name": "ipython",
    "version": 3
   },
   "file_extension": ".py",
   "mimetype": "text/x-python",
   "name": "python",
   "nbconvert_exporter": "python",
   "pygments_lexer": "ipython3",
   "version": "3.7.7"
  }
 },
 "nbformat": 4,
 "nbformat_minor": 4
}
