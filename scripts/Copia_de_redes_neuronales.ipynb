{
  "nbformat": 4,
  "nbformat_minor": 0,
  "metadata": {
    "colab": {
      "name": "Copia de redes_neuronales.ipynb",
      "provenance": [],
      "collapsed_sections": [],
      "include_colab_link": true
    },
    "kernelspec": {
      "name": "python3",
      "display_name": "Python 3"
    },
    "language_info": {
      "name": "python"
    }
  },
  "cells": [
    {
      "cell_type": "markdown",
      "metadata": {
        "id": "view-in-github",
        "colab_type": "text"
      },
      "source": [
        "<a href=\"https://colab.research.google.com/github/scidatmath2020/Pron-sticos-y-series-de-tiempo/blob/main/scripts/Copia_de_redes_neuronales.ipynb\" target=\"_parent\"><img src=\"https://colab.research.google.com/assets/colab-badge.svg\" alt=\"Open In Colab\"/></a>"
      ]
    },
    {
      "cell_type": "code",
      "metadata": {
        "id": "a-AYICyxm1Kf"
      },
      "source": [
        "import pandas as pd\n",
        "import numpy as np\n",
        "import matplotlib.pyplot as plt\n",
        "\n",
        "from sklearn.preprocessing import LabelEncoder, OneHotEncoder\n",
        "\n",
        "import os\n"
      ],
      "execution_count": null,
      "outputs": []
    },
    {
      "cell_type": "code",
      "metadata": {
        "id": "RjwDBFegnACk"
      },
      "source": [
        "from google.colab import files\n",
        "data_to_load = files.upload()\n"
      ],
      "execution_count": null,
      "outputs": []
    },
    {
      "cell_type": "code",
      "metadata": {
        "id": "H7SYH4izoCg_"
      },
      "source": [
        "import io\n",
        "df = pd.read_csv(io.BytesIO(data_to_load['Churn_Modelling.csv']))"
      ],
      "execution_count": null,
      "outputs": []
    },
    {
      "cell_type": "code",
      "metadata": {
        "id": "vOqImArkohBH"
      },
      "source": [
        "X = df.iloc[:,3:13].values\n",
        "y = df.iloc[:,13].values\n",
        "X.shape"
      ],
      "execution_count": null,
      "outputs": []
    },
    {
      "cell_type": "code",
      "metadata": {
        "id": "0Ye35VXWoplI"
      },
      "source": [
        "X[:,2] = LabelEncoder().fit_transform(X[:,2])\n",
        "\n",
        "\n",
        "from sklearn.compose import ColumnTransformer \n",
        "ct = ColumnTransformer([(\"Paises\",OneHotEncoder(),[1])], remainder=\"passthrough\") \n",
        "X = ct.fit_transform(X) \n"
      ],
      "execution_count": null,
      "outputs": []
    },
    {
      "cell_type": "code",
      "metadata": {
        "id": "2pKOQxpkos-A"
      },
      "source": [
        "X"
      ],
      "execution_count": null,
      "outputs": []
    },
    {
      "cell_type": "code",
      "metadata": {
        "id": "6h3_2_OJo6In"
      },
      "source": [
        "'''Seperar en entrenamiento y prueba'''\n",
        "\n",
        "from sklearn.model_selection import train_test_split\n",
        "\n",
        "X_train, X_test, y_train, y_test = train_test_split(X,y, test_size = 0.2,random_state = 0)\n",
        "\n",
        "''' Escalado '''\n",
        "\n",
        "from sklearn.preprocessing import StandardScaler\n",
        "sc = StandardScaler()\n",
        "X_train = sc.fit_transform(X_train)\n",
        "X_test = sc.transform(X_test)"
      ],
      "execution_count": null,
      "outputs": []
    },
    {
      "cell_type": "code",
      "metadata": {
        "id": "lQ-13PCdttpg"
      },
      "source": [
        "X_train.shape"
      ],
      "execution_count": null,
      "outputs": []
    },
    {
      "cell_type": "code",
      "metadata": {
        "id": "Xhy88dLlo8Vi"
      },
      "source": [
        "from keras.models import Sequential\n",
        "from keras.layers import Dense"
      ],
      "execution_count": null,
      "outputs": []
    },
    {
      "cell_type": "code",
      "metadata": {
        "id": "Ey1ZDTebpFw9"
      },
      "source": [
        "'''Inicializar la red neuronal como una secuencia de capaz'''\n",
        "clasificador = Sequential()"
      ],
      "execution_count": null,
      "outputs": []
    },
    {
      "cell_type": "code",
      "metadata": {
        "id": "99QrzUg-pfeE"
      },
      "source": [
        "clasificador.add(Dense(units=6,kernel_initializer='uniform',activation='relu',input_dim=12))\n",
        "clasificador.add(Dense(units=6,kernel_initializer='uniform',activation='relu'))\n",
        "clasificador.add(Dense(units=1,kernel_initializer='uniform',activation='sigmoid'))"
      ],
      "execution_count": null,
      "outputs": []
    },
    {
      "cell_type": "code",
      "metadata": {
        "id": "6A8dYdxBqN5D"
      },
      "source": [
        "clasificador.compile(optimizer=\"adam\",loss=\"binary_crossentropy\",metrics=[\"accuracy\"])"
      ],
      "execution_count": null,
      "outputs": []
    },
    {
      "cell_type": "code",
      "metadata": {
        "id": "VYVFJUYxsarG"
      },
      "source": [
        "clasificador.fit(X_train,y_train,batch_size=10,epochs=100)"
      ],
      "execution_count": null,
      "outputs": []
    },
    {
      "cell_type": "code",
      "metadata": {
        "id": "SNksqKCDtXjp"
      },
      "source": [
        "y_pred = clasificador.predict(X_test)"
      ],
      "execution_count": null,
      "outputs": []
    },
    {
      "cell_type": "code",
      "metadata": {
        "id": "q2ZwnGQLuOEx"
      },
      "source": [
        "with np.printoptions(threshold=np.inf):\n",
        "    print(X)"
      ],
      "execution_count": null,
      "outputs": []
    },
    {
      "cell_type": "code",
      "metadata": {
        "id": "af81g__4wNle"
      },
      "source": [
        "from sklearn.metrics import confusion_matrix\n",
        "mc = confusion_matrix(y_test,(y_pred>0.5))"
      ],
      "execution_count": null,
      "outputs": []
    },
    {
      "cell_type": "code",
      "metadata": {
        "id": "R6ZRIwklwmSc"
      },
      "source": [
        "mc"
      ],
      "execution_count": null,
      "outputs": []
    },
    {
      "cell_type": "code",
      "metadata": {
        "id": "vZpWDlcWxq9K"
      },
      "source": [
        "(1514+215)/2000"
      ],
      "execution_count": null,
      "outputs": []
    },
    {
      "cell_type": "code",
      "metadata": {
        "id": "8vqnA7mPx398"
      },
      "source": [
        "clasificador.predict(sc.transform(np.array([[1,0,0,600,1,40,3,60000,2,1,1,50000]])))"
      ],
      "execution_count": null,
      "outputs": []
    }
  ]
}